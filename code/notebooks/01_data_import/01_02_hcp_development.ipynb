{
 "cells": [
  {
   "cell_type": "markdown",
   "id": "16c1a832-da75-465b-8034-fa22f9cbef15",
   "metadata": {},
   "source": [
    "# HCP Development Data\n",
    "\n",
    "---"
   ]
  },
  {
   "cell_type": "markdown",
   "id": "3d7a6027-9758-4ea5-b742-d67d46d1772c",
   "metadata": {
    "jp-MarkdownHeadingCollapsed": true,
    "tags": []
   },
   "source": [
    "### package imports and basic functions\n",
    "\n",
    "---"
   ]
  },
  {
   "cell_type": "code",
   "execution_count": 1,
   "id": "a5a62b79-c3cf-46cc-9887-81e7bbfbfffe",
   "metadata": {},
   "outputs": [],
   "source": [
    "import os\n",
    "import gc\n",
    "import sys\n",
    "import glob\n",
    "import json\n",
    "import random\n",
    "import datetime\n",
    "import importlib\n",
    "import itertools\n",
    "import numpy as np\n",
    "from scipy import spatial\n",
    "import scipy.sparse as sparse\n",
    "import scipy.stats as stats\n",
    "import pandas as pd\n",
    "import nibabel as nib\n",
    "import matplotlib as mpl\n",
    "import matplotlib.pyplot as plt\n",
    "import seaborn as sns\n",
    "import boto3\n"
   ]
  },
  {
   "cell_type": "code",
   "execution_count": 2,
   "id": "005e3b40-cd2b-4183-bcc5-0c300d0e1151",
   "metadata": {},
   "outputs": [],
   "source": [
    "class MyNumpyEncoder(json.JSONEncoder):\n",
    "    def default(self, obj):\n",
    "        if isinstance(obj, np.integer):\n",
    "            return int(obj)\n",
    "        elif isinstance(obj, np.floating):\n",
    "            return float(obj)\n",
    "        elif isinstance(obj, np.ndarray):\n",
    "            return obj.tolist()\n",
    "        else:\n",
    "            return super(MyEncoder, self).default(obj)\n",
    "\n",
    "\n",
    "def ensure_dir(file_name):\n",
    "    os.makedirs(os.path.dirname(file_name), exist_ok=True)\n",
    "    return file_name\n",
    "\n",
    "\n",
    "def list_dirs(path=os.getcwd()):\n",
    "    files = glob.glob(os.path.join(path, '*'))\n",
    "    files = [x for x in files if os.path.isdir(x)]\n",
    "    return files\n",
    "\n",
    "\n",
    "def file_exists(file_name, path_name=os.getcwd()):\n",
    "    return os.path.isfile(os.path.join(path_name, file_name))\n",
    "\n",
    "\n",
    "def write_json(json_obj, file_path):\n",
    "    with open(file_path, 'w') as outfile:\n",
    "        json.dump(json_obj, outfile, sort_keys=True, indent=4,\n",
    "                  cls=MyNumpyEncoder)\n",
    "    return json_obj\n",
    "\n",
    "\n",
    "def write_np(np_obj, file_path):\n",
    "    with open(file_path, 'wb') as outfile:\n",
    "        np.save(outfile, np_obj)\n"
   ]
  },
  {
   "cell_type": "code",
   "execution_count": 3,
   "id": "7d081205-02f9-4ea9-9730-f5c1d1ecd12c",
   "metadata": {},
   "outputs": [],
   "source": [
    "# path setting\n",
    "main_dir = os.path.abspath('../../..')\n"
   ]
  },
  {
   "cell_type": "markdown",
   "id": "cb92a1d6-be22-475c-b18d-bd417dbb3e63",
   "metadata": {
    "jp-MarkdownHeadingCollapsed": true,
    "tags": []
   },
   "source": [
    "## Downloading data from NDA s3 bucket storage\n",
    "\n",
    "---"
   ]
  },
  {
   "cell_type": "code",
   "execution_count": null,
   "id": "467a3cea-f1c0-41b4-91ab-859d1d209727",
   "metadata": {},
   "outputs": [],
   "source": [
    "# downloaded by:\n",
    "# downloadcmd -dp 1205192 -u 'ndehestanikolag' -d AllHCPdataAgingDevelop -wt 8\n"
   ]
  },
  {
   "cell_type": "code",
   "execution_count": null,
   "id": "63b5d116-ce8a-47b3-b032-f13a18d96d46",
   "metadata": {},
   "outputs": [],
   "source": [
    "%%bash\n",
    "\n",
    "# get list of s3 links to be downloaded\n",
    "cat /mountpoint/data/NDA/AllHCPdataAgingDevelop/datastructure_manifest.txt \\\n",
    "| grep PreprocStrucRecommended \\\n",
    "| cut -f6 \\\n",
    "| sed 's/\"//g' \\\n",
    "| grep MNINonLinear/fsaverage_LR32k \\\n",
    "| grep thickness_MSMAll.32k_fs_LR.dscalar.nii \\\n",
    "| grep HCD \\\n",
    "> /mountpoint/data/NDA/HCPD_thickness_s3links.txt\n",
    "# | head\n"
   ]
  },
  {
   "cell_type": "code",
   "execution_count": null,
   "id": "d9d22d9f-d4da-4f3c-b5ae-81aabd3cef5e",
   "metadata": {},
   "outputs": [],
   "source": [
    "%%bash\n",
    "\n",
    "# make folder to store data in\n",
    "mkdir /mountpoint/data/HCP_Development\n"
   ]
  },
  {
   "cell_type": "code",
   "execution_count": null,
   "id": "0773bb55-ca39-425d-893d-9c83dff96080",
   "metadata": {},
   "outputs": [],
   "source": [
    "%%bash\n",
    "\n",
    "# Download the related files:\n",
    "# cd /mountpoint/data/\n",
    "# downloadcmd -dp 1205202 -t /home/sina/Documents/Research/Codes/NDA/HCPD_thickness_s3links.txt  -u 'ndehestanikolag' -d HCP_Development -wt 8\n",
    "\n",
    "# other detail in: /mountpoint/code/environments/venv_3.8.10/lib/python3.8/site-packages/NDATools/clientscripts/config/settings.cfg\n"
   ]
  },
  {
   "cell_type": "markdown",
   "id": "482cc597-a7ec-453b-8d84-71181d02bafc",
   "metadata": {
    "tags": []
   },
   "source": [
    "## Extracting data\n",
    "\n",
    "---"
   ]
  },
  {
   "cell_type": "code",
   "execution_count": 4,
   "id": "b21349c1-1f4c-479a-b692-2c5d4dfbdb50",
   "metadata": {},
   "outputs": [
    {
     "data": {
      "text/plain": [
       "652"
      ]
     },
     "execution_count": 4,
     "metadata": {},
     "output_type": "execute_result"
    }
   ],
   "source": [
    "hcpd_dir = '/mountpoint/data/HCP_Development/fmriresults01'\n",
    "hcpd_subjects = [x.split('/')[-1] for x in list_dirs(hcpd_dir)]\n",
    "len(hcpd_subjects)\n"
   ]
  },
  {
   "cell_type": "code",
   "execution_count": 5,
   "id": "1150ea39-bdb0-49e3-aae8-088401c14b0d",
   "metadata": {},
   "outputs": [
    {
     "data": {
      "text/plain": [
       "652"
      ]
     },
     "execution_count": 5,
     "metadata": {},
     "output_type": "execute_result"
    }
   ],
   "source": [
    "hcpd_valid_subjects = [\n",
    "    subject for subject in hcpd_subjects\n",
    "    if file_exists(\n",
    "        f'{hcpd_dir}/{subject}/MNINonLinear/fsaverage_LR32k/{subject}.thickness_MSMAll.32k_fs_LR.dscalar.nii',''\n",
    "    )\n",
    "]\n",
    "len(hcpd_valid_subjects)\n"
   ]
  },
  {
   "cell_type": "code",
   "execution_count": 6,
   "id": "e4ade2cb-ad11-4130-82a7-32af1b440a2d",
   "metadata": {},
   "outputs": [],
   "source": [
    "# ignore warning\n",
    "nib.imageglobals.logger.setLevel(40)\n"
   ]
  },
  {
   "cell_type": "code",
   "execution_count": 7,
   "id": "1a53aa0f-b71e-4251-b11c-5a013587cc6a",
   "metadata": {},
   "outputs": [
    {
     "name": "stdout",
     "output_type": "stream",
     "text": [
      "CPU times: user 2min 3s, sys: 7.41 s, total: 2min 10s\n",
      "Wall time: 2min 10s\n"
     ]
    }
   ],
   "source": [
    "%%time\n",
    "# create a numpy array to populate\n",
    "hcpd_data = np.zeros((len(hcpd_valid_subjects), 59412))\n",
    "\n",
    "for idx, subject in enumerate(hcpd_valid_subjects):\n",
    "    hcpd_data[idx] = nib.load(f'{hcpd_dir}/{subject}/MNINonLinear/fsaverage_LR32k/{subject}.thickness_MSMAll.32k_fs_LR.dscalar.nii').get_fdata().reshape(-1)\n"
   ]
  },
  {
   "cell_type": "code",
   "execution_count": 8,
   "id": "77fa71ce-928c-4e67-988f-d268b9cceb13",
   "metadata": {},
   "outputs": [],
   "source": [
    "hcpd_demography = pd.read_csv(\n",
    "    f'/mountpoint/data/NDA/AllHCPdataAgingDevelop/fmriresults01.txt',\n",
    "    delimiter='\\t',\n",
    "    skiprows=[1],\n",
    "    header=0\n",
    ")\n"
   ]
  },
  {
   "cell_type": "code",
   "execution_count": 9,
   "id": "ea02ef9e-d9ba-4198-afdb-3a61b406fa31",
   "metadata": {},
   "outputs": [],
   "source": [
    "hcpd_ages = np.array(\n",
    "    [\n",
    "        float(hcpd_demography[hcpd_demography['src_subject_id'] == (subject[:-6])]['interview_age'].values[0])/12\n",
    "        for subject in hcpd_valid_subjects\n",
    "    ]\n",
    ")\n"
   ]
  },
  {
   "cell_type": "code",
   "execution_count": 10,
   "id": "90c4fbab-cfe6-446a-b4ec-ec782c4c639d",
   "metadata": {},
   "outputs": [],
   "source": [
    "gender_dict = {'M': 0, 'F': 1}\n",
    "hcpd_genders = np.array(\n",
    "    [\n",
    "        float(gender_dict[hcpd_demography[hcpd_demography['src_subject_id'] == (subject[:-6])]['sex'].values[0]])\n",
    "        for subject in hcpd_valid_subjects\n",
    "    ]\n",
    ")\n"
   ]
  },
  {
   "cell_type": "markdown",
   "id": "cd04ad41-7e69-47cd-8326-9600b34f816c",
   "metadata": {
    "tags": []
   },
   "source": [
    "## Storing cleaned data\n",
    "\n",
    "---"
   ]
  },
  {
   "cell_type": "code",
   "execution_count": 11,
   "id": "2a08add3-24a0-4467-a3fd-0757a100e903",
   "metadata": {},
   "outputs": [],
   "source": [
    "# mean thickness stored as csv\n",
    "hcpd_mean_thickness = np.mean(hcpd_data, axis=1)\n",
    "hcpd_df = pd.DataFrame({'age': hcpd_ages, 'thickness': hcpd_mean_thickness, 'sex': hcpd_genders})\n",
    "dataset_name = 'HCP-D'\n",
    "hcpd_df['dataset'] = dataset_name\n",
    "hcpd_df.to_csv(ensure_dir(f'{main_dir}/data/csv/demography_{dataset_name}.csv'))\n"
   ]
  },
  {
   "cell_type": "code",
   "execution_count": 12,
   "id": "3bae079d-3310-498e-a132-92d0b3a1fe44",
   "metadata": {},
   "outputs": [],
   "source": [
    "# valid subject names as json\n",
    "write_json(hcpd_valid_subjects, ensure_dir(f'{main_dir}/data/json/valid_subjects_{dataset_name}.json'));\n"
   ]
  },
  {
   "cell_type": "code",
   "execution_count": 13,
   "id": "e4d0f468-7098-47a3-ab2b-1d93ca63ff16",
   "metadata": {},
   "outputs": [],
   "source": [
    "# high-resolution thickness as npy\n",
    "write_np(hcpd_data, ensure_dir(f'{main_dir}/data/npy/thickness_{dataset_name}.npy'));\n"
   ]
  },
  {
   "cell_type": "code",
   "execution_count": null,
   "id": "0b208904-d704-4770-bc2f-f14541e164d2",
   "metadata": {},
   "outputs": [],
   "source": []
  }
 ],
 "metadata": {
  "kernelspec": {
   "display_name": "Python 3 (ipykernel)",
   "language": "python",
   "name": "python3"
  },
  "language_info": {
   "codemirror_mode": {
    "name": "ipython",
    "version": 3
   },
   "file_extension": ".py",
   "mimetype": "text/x-python",
   "name": "python",
   "nbconvert_exporter": "python",
   "pygments_lexer": "ipython3",
   "version": "3.8.10"
  },
  "toc-autonumbering": true,
  "toc-showcode": false,
  "toc-showmarkdowntxt": false,
  "toc-showtags": false
 },
 "nbformat": 4,
 "nbformat_minor": 5
}
