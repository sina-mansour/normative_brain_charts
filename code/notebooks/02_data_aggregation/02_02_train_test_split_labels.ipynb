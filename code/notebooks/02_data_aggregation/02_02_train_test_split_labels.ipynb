{
 "cells": [
  {
   "cell_type": "markdown",
   "id": "b68b8dc2-347c-4733-9a88-3f0f3d3fc716",
   "metadata": {},
   "source": [
    "# Creating a train-test split for model evaluations\n",
    "\n",
    "---"
   ]
  },
  {
   "cell_type": "markdown",
   "id": "a0cd2f2b-b848-4168-b6da-2575c14fa60c",
   "metadata": {
    "tags": []
   },
   "source": [
    "### package imports and basic functions\n",
    "\n",
    "---"
   ]
  },
  {
   "cell_type": "code",
   "execution_count": 1,
   "id": "5191b4ea-0337-4e29-9137-f666355b2362",
   "metadata": {},
   "outputs": [],
   "source": [
    "import os\n",
    "import gc\n",
    "import sys\n",
    "import glob\n",
    "import json\n",
    "import random\n",
    "import datetime\n",
    "import importlib\n",
    "import itertools\n",
    "import numpy as np\n",
    "from scipy import spatial\n",
    "import scipy.sparse as sparse\n",
    "import scipy.stats as stats\n",
    "import pandas as pd\n",
    "import nibabel as nib\n",
    "import matplotlib as mpl\n",
    "import matplotlib.pyplot as plt\n",
    "import seaborn as sns\n",
    "import boto3\n"
   ]
  },
  {
   "cell_type": "code",
   "execution_count": 2,
   "id": "26271c82-540a-47f2-a85f-decad7d5a380",
   "metadata": {},
   "outputs": [],
   "source": [
    "class MyNumpyEncoder(json.JSONEncoder):\n",
    "    def default(self, obj):\n",
    "        if isinstance(obj, np.integer):\n",
    "            return int(obj)\n",
    "        elif isinstance(obj, np.floating):\n",
    "            return float(obj)\n",
    "        elif isinstance(obj, np.ndarray):\n",
    "            return obj.tolist()\n",
    "        else:\n",
    "            return super(MyEncoder, self).default(obj)\n",
    "\n",
    "\n",
    "def ensure_dir(file_name):\n",
    "    os.makedirs(os.path.dirname(file_name), exist_ok=True)\n",
    "    return file_name\n",
    "\n",
    "\n",
    "def list_dirs(path=os.getcwd()):\n",
    "    files = glob.glob(os.path.join(path, '*'))\n",
    "    files = [x for x in files if os.path.isdir(x)]\n",
    "    return files\n",
    "\n",
    "\n",
    "def file_exists(file_name, path_name=os.getcwd()):\n",
    "    return os.path.isfile(os.path.join(path_name, file_name))\n",
    "\n",
    "\n",
    "def write_json(json_obj, file_path):\n",
    "    with open(file_path, 'w') as outfile:\n",
    "        json.dump(json_obj, outfile, sort_keys=True, indent=4,\n",
    "                  cls=MyNumpyEncoder)\n",
    "    return json_obj\n",
    "\n",
    "\n",
    "def load_json(file_path):\n",
    "    with open(file_path, 'r') as infile:\n",
    "        return json.load(infile)\n",
    "\n",
    "\n",
    "def write_np(np_obj, file_path):\n",
    "    with open(file_path, 'wb') as outfile:\n",
    "        np.save(outfile, np_obj)\n",
    "\n",
    "\n",
    "def load_np(file_path):\n",
    "    with open(file_path, 'rb') as infile:\n",
    "        return np.load(infile)\n"
   ]
  },
  {
   "cell_type": "code",
   "execution_count": 3,
   "id": "dbbeeaea-ddf7-4b47-80c1-a3a7ec3b80dc",
   "metadata": {},
   "outputs": [],
   "source": [
    "# path setting\n",
    "main_dir = os.path.abspath('../../..')\n"
   ]
  },
  {
   "cell_type": "markdown",
   "id": "bac11e9c-89d4-41a6-b947-d93b27a048f8",
   "metadata": {
    "tags": []
   },
   "source": [
    "## Load aggregated data\n",
    "\n",
    "---"
   ]
  },
  {
   "cell_type": "code",
   "execution_count": 4,
   "id": "985bd7b4-e5b2-4e2f-9766-a3fd3615586c",
   "metadata": {
    "tags": []
   },
   "outputs": [
    {
     "data": {
      "text/html": [
       "<div>\n",
       "<style scoped>\n",
       "    .dataframe tbody tr th:only-of-type {\n",
       "        vertical-align: middle;\n",
       "    }\n",
       "\n",
       "    .dataframe tbody tr th {\n",
       "        vertical-align: top;\n",
       "    }\n",
       "\n",
       "    .dataframe thead th {\n",
       "        text-align: right;\n",
       "    }\n",
       "</style>\n",
       "<table border=\"1\" class=\"dataframe\">\n",
       "  <thead>\n",
       "    <tr style=\"text-align: right;\">\n",
       "      <th></th>\n",
       "      <th>age</th>\n",
       "      <th>thickness</th>\n",
       "      <th>sex</th>\n",
       "      <th>subject_ID</th>\n",
       "      <th>dataset</th>\n",
       "      <th>site</th>\n",
       "      <th>siteCode</th>\n",
       "    </tr>\n",
       "  </thead>\n",
       "  <tbody>\n",
       "    <tr>\n",
       "      <th>0</th>\n",
       "      <td>32.0</td>\n",
       "      <td>2.636395</td>\n",
       "      <td>1.0</td>\n",
       "      <td>HCP-YA-130518</td>\n",
       "      <td>HCP-YA</td>\n",
       "      <td>HCP-YA-site_0</td>\n",
       "      <td>0</td>\n",
       "    </tr>\n",
       "    <tr>\n",
       "      <th>1</th>\n",
       "      <td>35.0</td>\n",
       "      <td>2.633850</td>\n",
       "      <td>1.0</td>\n",
       "      <td>HCP-YA-192237</td>\n",
       "      <td>HCP-YA</td>\n",
       "      <td>HCP-YA-site_0</td>\n",
       "      <td>0</td>\n",
       "    </tr>\n",
       "    <tr>\n",
       "      <th>2</th>\n",
       "      <td>31.0</td>\n",
       "      <td>2.704905</td>\n",
       "      <td>1.0</td>\n",
       "      <td>HCP-YA-859671</td>\n",
       "      <td>HCP-YA</td>\n",
       "      <td>HCP-YA-site_0</td>\n",
       "      <td>0</td>\n",
       "    </tr>\n",
       "    <tr>\n",
       "      <th>3</th>\n",
       "      <td>33.0</td>\n",
       "      <td>2.629196</td>\n",
       "      <td>0.0</td>\n",
       "      <td>HCP-YA-158136</td>\n",
       "      <td>HCP-YA</td>\n",
       "      <td>HCP-YA-site_0</td>\n",
       "      <td>0</td>\n",
       "    </tr>\n",
       "    <tr>\n",
       "      <th>4</th>\n",
       "      <td>22.0</td>\n",
       "      <td>2.760889</td>\n",
       "      <td>0.0</td>\n",
       "      <td>HCP-YA-192136</td>\n",
       "      <td>HCP-YA</td>\n",
       "      <td>HCP-YA-site_0</td>\n",
       "      <td>0</td>\n",
       "    </tr>\n",
       "  </tbody>\n",
       "</table>\n",
       "</div>"
      ],
      "text/plain": [
       "    age  thickness  sex     subject_ID dataset           site  siteCode\n",
       "0  32.0   2.636395  1.0  HCP-YA-130518  HCP-YA  HCP-YA-site_0         0\n",
       "1  35.0   2.633850  1.0  HCP-YA-192237  HCP-YA  HCP-YA-site_0         0\n",
       "2  31.0   2.704905  1.0  HCP-YA-859671  HCP-YA  HCP-YA-site_0         0\n",
       "3  33.0   2.629196  0.0  HCP-YA-158136  HCP-YA  HCP-YA-site_0         0\n",
       "4  22.0   2.760889  0.0  HCP-YA-192136  HCP-YA  HCP-YA-site_0         0"
      ]
     },
     "execution_count": 4,
     "metadata": {},
     "output_type": "execute_result"
    }
   ],
   "source": [
    "demography_df = pd.read_csv(f'{main_dir}/data/csv/demography_all_datasets.csv', index_col=0).reset_index(drop=True)\n",
    "demography_df.head()\n"
   ]
  },
  {
   "cell_type": "markdown",
   "id": "7f7f9cc6-471b-45d8-9d96-63f25f7d74e6",
   "metadata": {
    "tags": []
   },
   "source": [
    "## Add split labels\n",
    "\n",
    "---"
   ]
  },
  {
   "cell_type": "code",
   "execution_count": 8,
   "id": "5342a6c8-55f2-4a02-9fcf-7ef813b5af2b",
   "metadata": {},
   "outputs": [
    {
     "data": {
      "text/html": [
       "<div>\n",
       "<style scoped>\n",
       "    .dataframe tbody tr th:only-of-type {\n",
       "        vertical-align: middle;\n",
       "    }\n",
       "\n",
       "    .dataframe tbody tr th {\n",
       "        vertical-align: top;\n",
       "    }\n",
       "\n",
       "    .dataframe thead th {\n",
       "        text-align: right;\n",
       "    }\n",
       "</style>\n",
       "<table border=\"1\" class=\"dataframe\">\n",
       "  <thead>\n",
       "    <tr style=\"text-align: right;\">\n",
       "      <th></th>\n",
       "      <th>age</th>\n",
       "      <th>thickness</th>\n",
       "      <th>sex</th>\n",
       "      <th>subject_ID</th>\n",
       "      <th>dataset</th>\n",
       "      <th>site</th>\n",
       "      <th>siteCode</th>\n",
       "    </tr>\n",
       "  </thead>\n",
       "  <tbody>\n",
       "    <tr>\n",
       "      <th>0</th>\n",
       "      <td>32.0</td>\n",
       "      <td>2.636395</td>\n",
       "      <td>1.0</td>\n",
       "      <td>HCP-YA-130518</td>\n",
       "      <td>HCP-YA</td>\n",
       "      <td>HCP-YA-site_0</td>\n",
       "      <td>0</td>\n",
       "    </tr>\n",
       "    <tr>\n",
       "      <th>1</th>\n",
       "      <td>35.0</td>\n",
       "      <td>2.633850</td>\n",
       "      <td>1.0</td>\n",
       "      <td>HCP-YA-192237</td>\n",
       "      <td>HCP-YA</td>\n",
       "      <td>HCP-YA-site_0</td>\n",
       "      <td>0</td>\n",
       "    </tr>\n",
       "    <tr>\n",
       "      <th>2</th>\n",
       "      <td>31.0</td>\n",
       "      <td>2.704905</td>\n",
       "      <td>1.0</td>\n",
       "      <td>HCP-YA-859671</td>\n",
       "      <td>HCP-YA</td>\n",
       "      <td>HCP-YA-site_0</td>\n",
       "      <td>0</td>\n",
       "    </tr>\n",
       "    <tr>\n",
       "      <th>3</th>\n",
       "      <td>33.0</td>\n",
       "      <td>2.629196</td>\n",
       "      <td>0.0</td>\n",
       "      <td>HCP-YA-158136</td>\n",
       "      <td>HCP-YA</td>\n",
       "      <td>HCP-YA-site_0</td>\n",
       "      <td>0</td>\n",
       "    </tr>\n",
       "    <tr>\n",
       "      <th>4</th>\n",
       "      <td>22.0</td>\n",
       "      <td>2.760889</td>\n",
       "      <td>0.0</td>\n",
       "      <td>HCP-YA-192136</td>\n",
       "      <td>HCP-YA</td>\n",
       "      <td>HCP-YA-site_0</td>\n",
       "      <td>0</td>\n",
       "    </tr>\n",
       "  </tbody>\n",
       "</table>\n",
       "</div>"
      ],
      "text/plain": [
       "    age  thickness  sex     subject_ID dataset           site  siteCode\n",
       "0  32.0   2.636395  1.0  HCP-YA-130518  HCP-YA  HCP-YA-site_0         0\n",
       "1  35.0   2.633850  1.0  HCP-YA-192237  HCP-YA  HCP-YA-site_0         0\n",
       "2  31.0   2.704905  1.0  HCP-YA-859671  HCP-YA  HCP-YA-site_0         0\n",
       "3  33.0   2.629196  0.0  HCP-YA-158136  HCP-YA  HCP-YA-site_0         0\n",
       "4  22.0   2.760889  0.0  HCP-YA-192136  HCP-YA  HCP-YA-site_0         0"
      ]
     },
     "execution_count": 8,
     "metadata": {},
     "output_type": "execute_result"
    }
   ],
   "source": [
    "demography_df = pd.concat([demographies[dataset_name] for dataset_name in datasets])\n",
    "\n",
    "# encode site information\n",
    "site_idxs, sites = pd.factorize(demography_df['site'])\n",
    "demography_df['siteCode'] = site_idxs\n",
    "\n",
    "demography_df.head()\n"
   ]
  },
  {
   "cell_type": "code",
   "execution_count": 9,
   "id": "c0dd3774-ea63-4976-8b80-7d0ebe393dd0",
   "metadata": {},
   "outputs": [],
   "source": [
    "demography_df.to_csv(ensure_dir(f'{main_dir}/data/csv/demography_all_datasets.csv'))\n"
   ]
  },
  {
   "cell_type": "code",
   "execution_count": 10,
   "id": "1a6f7a7c-34e5-4bbe-845e-b722c8f4d665",
   "metadata": {},
   "outputs": [],
   "source": [
    "write_json(\n",
    "    [f'{dataset_name}-{subject}' for dataset_name in datasets for subject in valid_subjects[dataset_name]],\n",
    "    ensure_dir(f'{main_dir}/data/json/valid_subjects_all_datasets.json')\n",
    ");\n"
   ]
  },
  {
   "cell_type": "code",
   "execution_count": 11,
   "id": "45f7ebbc-8e3d-4d66-9a88-9f97bcd94fbe",
   "metadata": {},
   "outputs": [],
   "source": [
    "# all high-resolution thickness data\n",
    "all_thickness_data = np.concatenate([thickness_data[dataset_name] for dataset_name in datasets])\n"
   ]
  },
  {
   "cell_type": "code",
   "execution_count": 12,
   "id": "bc9eeb6d-4a1d-44d8-b0ae-fc22a95954c2",
   "metadata": {},
   "outputs": [
    {
     "data": {
      "text/plain": [
       "(2473, 59412)"
      ]
     },
     "execution_count": 12,
     "metadata": {},
     "output_type": "execute_result"
    }
   ],
   "source": [
    "all_thickness_data.shape"
   ]
  },
  {
   "cell_type": "code",
   "execution_count": 13,
   "id": "c7205ffd-f65d-4103-b558-3fdb9b3849ec",
   "metadata": {},
   "outputs": [],
   "source": [
    "write_np(all_thickness_data, ensure_dir(f'{main_dir}/data/npy/thickness_all_datasets.npy'));\n"
   ]
  },
  {
   "cell_type": "code",
   "execution_count": 30,
   "id": "65a8bbf3-437a-497c-8485-8bf7e11b68e7",
   "metadata": {},
   "outputs": [
    {
     "data": {
      "text/html": [
       "<div>\n",
       "<style scoped>\n",
       "    .dataframe tbody tr th:only-of-type {\n",
       "        vertical-align: middle;\n",
       "    }\n",
       "\n",
       "    .dataframe tbody tr th {\n",
       "        vertical-align: top;\n",
       "    }\n",
       "\n",
       "    .dataframe thead th {\n",
       "        text-align: right;\n",
       "    }\n",
       "</style>\n",
       "<table border=\"1\" class=\"dataframe\">\n",
       "  <thead>\n",
       "    <tr style=\"text-align: right;\">\n",
       "      <th></th>\n",
       "      <th>age</th>\n",
       "      <th>thickness</th>\n",
       "      <th>sex</th>\n",
       "      <th>subject_ID</th>\n",
       "      <th>dataset</th>\n",
       "      <th>site</th>\n",
       "      <th>siteCode</th>\n",
       "      <th>split</th>\n",
       "      <th>age_bins</th>\n",
       "    </tr>\n",
       "  </thead>\n",
       "  <tbody>\n",
       "    <tr>\n",
       "      <th>0</th>\n",
       "      <td>32.0</td>\n",
       "      <td>2.636395</td>\n",
       "      <td>1.0</td>\n",
       "      <td>HCP-YA-130518</td>\n",
       "      <td>HCP-YA</td>\n",
       "      <td>HCP-YA-site_0</td>\n",
       "      <td>0</td>\n",
       "      <td>Train</td>\n",
       "      <td>11</td>\n",
       "    </tr>\n",
       "    <tr>\n",
       "      <th>1</th>\n",
       "      <td>35.0</td>\n",
       "      <td>2.633850</td>\n",
       "      <td>1.0</td>\n",
       "      <td>HCP-YA-192237</td>\n",
       "      <td>HCP-YA</td>\n",
       "      <td>HCP-YA-site_0</td>\n",
       "      <td>0</td>\n",
       "      <td>Train</td>\n",
       "      <td>13</td>\n",
       "    </tr>\n",
       "    <tr>\n",
       "      <th>2</th>\n",
       "      <td>31.0</td>\n",
       "      <td>2.704905</td>\n",
       "      <td>1.0</td>\n",
       "      <td>HCP-YA-859671</td>\n",
       "      <td>HCP-YA</td>\n",
       "      <td>HCP-YA-site_0</td>\n",
       "      <td>0</td>\n",
       "      <td>Train</td>\n",
       "      <td>10</td>\n",
       "    </tr>\n",
       "    <tr>\n",
       "      <th>3</th>\n",
       "      <td>33.0</td>\n",
       "      <td>2.629196</td>\n",
       "      <td>0.0</td>\n",
       "      <td>HCP-YA-158136</td>\n",
       "      <td>HCP-YA</td>\n",
       "      <td>HCP-YA-site_0</td>\n",
       "      <td>0</td>\n",
       "      <td>Train</td>\n",
       "      <td>12</td>\n",
       "    </tr>\n",
       "    <tr>\n",
       "      <th>4</th>\n",
       "      <td>22.0</td>\n",
       "      <td>2.760889</td>\n",
       "      <td>0.0</td>\n",
       "      <td>HCP-YA-192136</td>\n",
       "      <td>HCP-YA</td>\n",
       "      <td>HCP-YA-site_0</td>\n",
       "      <td>0</td>\n",
       "      <td>Train</td>\n",
       "      <td>5</td>\n",
       "    </tr>\n",
       "  </tbody>\n",
       "</table>\n",
       "</div>"
      ],
      "text/plain": [
       "    age  thickness  sex     subject_ID dataset           site  siteCode  \\\n",
       "0  32.0   2.636395  1.0  HCP-YA-130518  HCP-YA  HCP-YA-site_0         0   \n",
       "1  35.0   2.633850  1.0  HCP-YA-192237  HCP-YA  HCP-YA-site_0         0   \n",
       "2  31.0   2.704905  1.0  HCP-YA-859671  HCP-YA  HCP-YA-site_0         0   \n",
       "3  33.0   2.629196  0.0  HCP-YA-158136  HCP-YA  HCP-YA-site_0         0   \n",
       "4  22.0   2.760889  0.0  HCP-YA-192136  HCP-YA  HCP-YA-site_0         0   \n",
       "\n",
       "   split  age_bins  \n",
       "0  Train        11  \n",
       "1  Train        13  \n",
       "2  Train        10  \n",
       "3  Train        12  \n",
       "4  Train         5  "
      ]
     },
     "execution_count": 30,
     "metadata": {},
     "output_type": "execute_result"
    }
   ],
   "source": [
    "demography_df['age_bins'] = pd.qcut(demography_df['age'], q=20, labels=False)\n",
    "demography_df.head()\n"
   ]
  },
  {
   "cell_type": "code",
   "execution_count": 44,
   "id": "25300229-e5f7-4f09-a546-0bb49a88b0fd",
   "metadata": {},
   "outputs": [],
   "source": [
    "from sklearn.model_selection import train_test_split\n",
    "\n",
    "train_indices, test_indices = train_test_split(\n",
    "    np.arange(demography_df.shape[0]), train_size=0.8, random_state=0, shuffle=True, stratify=demography_df[['siteCode', 'age_bins', 'sex']]\n",
    ")\n"
   ]
  },
  {
   "cell_type": "code",
   "execution_count": 45,
   "id": "1cda737d-f238-453b-9964-f3c9c3e8bcd3",
   "metadata": {},
   "outputs": [],
   "source": [
    "demography_df[\"split\"] = \"Train\"\n",
    "\n",
    "demography_df.loc[test_indices, 'split'] = 'Test'\n"
   ]
  },
  {
   "cell_type": "code",
   "execution_count": 46,
   "id": "c2f51ef3-d088-4e91-8903-3102d41280f5",
   "metadata": {
    "tags": []
   },
   "outputs": [],
   "source": [
    "demography_df.to_csv(ensure_dir(f'{main_dir}/data/csv/demography_all_datasets.csv'))\n"
   ]
  },
  {
   "cell_type": "markdown",
   "id": "79c9e2bc-93be-4f34-a4fc-2695eee13b28",
   "metadata": {
    "tags": []
   },
   "source": [
    "## Verify stratified splits\n",
    "\n",
    "---"
   ]
  },
  {
   "cell_type": "code",
   "execution_count": 177,
   "id": "a09c24ec-9788-4298-9263-6a566ec0b829",
   "metadata": {},
   "outputs": [
    {
     "data": {
      "text/plain": [
       "Train    1978\n",
       "Test      495\n",
       "Name: split, dtype: int64"
      ]
     },
     "execution_count": 177,
     "metadata": {},
     "output_type": "execute_result"
    }
   ],
   "source": [
    "demography_df[\"split\"].value_counts()"
   ]
  },
  {
   "cell_type": "code",
   "execution_count": 47,
   "id": "b4068dd5-6a58-4441-a2ed-3d39ed31b162",
   "metadata": {},
   "outputs": [
    {
     "data": {
      "text/plain": [
       "Train    0.799838\n",
       "Test     0.200162\n",
       "Name: split, dtype: float64"
      ]
     },
     "execution_count": 47,
     "metadata": {},
     "output_type": "execute_result"
    }
   ],
   "source": [
    "demography_df[\"split\"].value_counts() / demography_df.shape[0]"
   ]
  },
  {
   "cell_type": "code",
   "execution_count": 48,
   "id": "379e9e29-e8b6-4c90-9ed9-a749cb03e74e",
   "metadata": {
    "tags": []
   },
   "outputs": [
    {
     "name": "stdout",
     "output_type": "stream",
     "text": [
      "CPU times: user 243 ms, sys: 80.9 ms, total: 324 ms\n",
      "Wall time: 151 ms\n"
     ]
    },
    {
     "data": {
      "image/png": "[encoded data removed]",
      "text/plain": [
       "<Figure size 1200x400 with 3 Axes>"
      ]
     },
     "metadata": {},
     "output_type": "display_data"
    }
   ],
   "source": [
    "%%time\n",
    "\n",
    "from matplotlib.collections import PolyCollection\n",
    "from matplotlib.colors import to_rgb\n",
    "\n",
    "fig, axes = plt.subplots(1, 3, figsize=(12, 4))\n",
    "fig.subplots_adjust(wspace=0.4)\n",
    "\n",
    "for i in range(3):\n",
    "    ax = axes[i]\n",
    "    if i == 0:\n",
    "        ax.set_title('Age distribution', fontsize=22)\n",
    "        sample_df = demography_df.copy()\n",
    "    elif i == 1:\n",
    "        ax.set_title('Train', fontsize=22)\n",
    "        sample_df = demography_df[demography_df['split'] == 'Train'].copy()\n",
    "    elif i == 2:\n",
    "        ax.set_title('Test', fontsize=22)\n",
    "        sample_df = demography_df[demography_df['split'] == 'Test'].copy()\n",
    "        \n",
    "        \n",
    "    data_order = sample_df.groupby(by=[\"dataset\"])[\"age\"].median().sort_values().index\n",
    "\n",
    "    sns.violinplot(\n",
    "        data=sample_df,\n",
    "        x='dataset',\n",
    "        y='age',\n",
    "        ax=ax,\n",
    "        linewidth=0,\n",
    "        hue='sex',\n",
    "        palette=['.4', '.7'],\n",
    "        alpha=0.5,\n",
    "        split=True,\n",
    "        scale=\"count\",\n",
    "        order=data_order,\n",
    "    )\n",
    "\n",
    "    colors = sns.color_palette('Set1')\n",
    "    for ind, violin in enumerate(ax.findobj(PolyCollection)):\n",
    "        rgb = to_rgb(colors[ind // 2])\n",
    "        if ind % 2 != 0:\n",
    "            rgb = 0.5 + 0.5 * np.array(rgb)  # make whiter\n",
    "        violin.set_facecolor(rgb)\n",
    "\n",
    "    ax.set_xlabel('Dataset', fontsize=18)\n",
    "    ax.set_ylabel('Age', fontsize=18)\n",
    "\n"
   ]
  },
  {
   "cell_type": "code",
   "execution_count": 49,
   "id": "dad08ab6-b4ed-4795-89b1-0b448e158f3a",
   "metadata": {},
   "outputs": [
    {
     "data": {
      "text/html": [
       "<div>\n",
       "<style scoped>\n",
       "    .dataframe tbody tr th:only-of-type {\n",
       "        vertical-align: middle;\n",
       "    }\n",
       "\n",
       "    .dataframe tbody tr th {\n",
       "        vertical-align: top;\n",
       "    }\n",
       "\n",
       "    .dataframe thead th {\n",
       "        text-align: right;\n",
       "    }\n",
       "</style>\n",
       "<table border=\"1\" class=\"dataframe\">\n",
       "  <thead>\n",
       "    <tr style=\"text-align: right;\">\n",
       "      <th></th>\n",
       "      <th>age</th>\n",
       "      <th>thickness</th>\n",
       "      <th>sex</th>\n",
       "      <th>subject_ID</th>\n",
       "      <th>dataset</th>\n",
       "      <th>site</th>\n",
       "      <th>siteCode</th>\n",
       "      <th>split</th>\n",
       "      <th>age_bins</th>\n",
       "    </tr>\n",
       "  </thead>\n",
       "  <tbody>\n",
       "    <tr>\n",
       "      <th>0</th>\n",
       "      <td>32.0</td>\n",
       "      <td>2.636395</td>\n",
       "      <td>1.0</td>\n",
       "      <td>HCP-YA-130518</td>\n",
       "      <td>HCP-YA</td>\n",
       "      <td>HCP-YA-site_0</td>\n",
       "      <td>0</td>\n",
       "      <td>Train</td>\n",
       "      <td>11</td>\n",
       "    </tr>\n",
       "    <tr>\n",
       "      <th>1</th>\n",
       "      <td>35.0</td>\n",
       "      <td>2.633850</td>\n",
       "      <td>1.0</td>\n",
       "      <td>HCP-YA-192237</td>\n",
       "      <td>HCP-YA</td>\n",
       "      <td>HCP-YA-site_0</td>\n",
       "      <td>0</td>\n",
       "      <td>Train</td>\n",
       "      <td>13</td>\n",
       "    </tr>\n",
       "    <tr>\n",
       "      <th>2</th>\n",
       "      <td>31.0</td>\n",
       "      <td>2.704905</td>\n",
       "      <td>1.0</td>\n",
       "      <td>HCP-YA-859671</td>\n",
       "      <td>HCP-YA</td>\n",
       "      <td>HCP-YA-site_0</td>\n",
       "      <td>0</td>\n",
       "      <td>Train</td>\n",
       "      <td>10</td>\n",
       "    </tr>\n",
       "    <tr>\n",
       "      <th>3</th>\n",
       "      <td>33.0</td>\n",
       "      <td>2.629196</td>\n",
       "      <td>0.0</td>\n",
       "      <td>HCP-YA-158136</td>\n",
       "      <td>HCP-YA</td>\n",
       "      <td>HCP-YA-site_0</td>\n",
       "      <td>0</td>\n",
       "      <td>Train</td>\n",
       "      <td>12</td>\n",
       "    </tr>\n",
       "    <tr>\n",
       "      <th>4</th>\n",
       "      <td>22.0</td>\n",
       "      <td>2.760889</td>\n",
       "      <td>0.0</td>\n",
       "      <td>HCP-YA-192136</td>\n",
       "      <td>HCP-YA</td>\n",
       "      <td>HCP-YA-site_0</td>\n",
       "      <td>0</td>\n",
       "      <td>Test</td>\n",
       "      <td>5</td>\n",
       "    </tr>\n",
       "  </tbody>\n",
       "</table>\n",
       "</div>"
      ],
      "text/plain": [
       "    age  thickness  sex     subject_ID dataset           site  siteCode  \\\n",
       "0  32.0   2.636395  1.0  HCP-YA-130518  HCP-YA  HCP-YA-site_0         0   \n",
       "1  35.0   2.633850  1.0  HCP-YA-192237  HCP-YA  HCP-YA-site_0         0   \n",
       "2  31.0   2.704905  1.0  HCP-YA-859671  HCP-YA  HCP-YA-site_0         0   \n",
       "3  33.0   2.629196  0.0  HCP-YA-158136  HCP-YA  HCP-YA-site_0         0   \n",
       "4  22.0   2.760889  0.0  HCP-YA-192136  HCP-YA  HCP-YA-site_0         0   \n",
       "\n",
       "   split  age_bins  \n",
       "0  Train        11  \n",
       "1  Train        13  \n",
       "2  Train        10  \n",
       "3  Train        12  \n",
       "4   Test         5  "
      ]
     },
     "execution_count": 49,
     "metadata": {},
     "output_type": "execute_result"
    }
   ],
   "source": [
    "demography_df.head()\n"
   ]
  }
 ],
 "metadata": {
  "kernelspec": {
   "display_name": "Python 3 (ipykernel)",
   "language": "python",
   "name": "python3"
  },
  "language_info": {
   "codemirror_mode": {
    "name": "ipython",
    "version": 3
   },
   "file_extension": ".py",
   "mimetype": "text/x-python",
   "name": "python",
   "nbconvert_exporter": "python",
   "pygments_lexer": "ipython3",
   "version": "3.10.6"
  },
  "toc-autonumbering": true
 },
 "nbformat": 4,
 "nbformat_minor": 5
}
